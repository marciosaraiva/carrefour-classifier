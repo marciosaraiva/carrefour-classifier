{
 "cells": [
  {
   "cell_type": "code",
   "execution_count": 11,
   "id": "35973d85-5912-4203-9a1b-3e25d6c1b92c",
   "metadata": {},
   "outputs": [],
   "source": [
    "import project_functions as pf\n",
    "from sklearn.ensemble import RandomForestClassifier\n",
    "from tkinter import *\n",
    "\n",
    "main_window = Tk() \n",
    "\n",
    "main_window.title(\"Product Classifier\")\n",
    "main_window.geometry(\"280x100\") \n",
    "\n",
    "main_window.grid()\n",
    "\n",
    "frame = Frame(main_window)\n",
    "frame.grid()\n",
    "\n",
    "l_url = Label(frame, text=\"Insert a url: \")\n",
    "l_url.grid(row=0, column=0)\n",
    "\n",
    "e_mensagem = Entry(frame)\n",
    "e_mensagem.grid(row=0, column=1)\n",
    "\n",
    "frame2 = Frame(main_window)\n",
    "frame2.grid(row=1,column=0)\n",
    "v = StringVar()\n",
    "\n",
    "l_answer = Label(frame, text=\"Category: \")\n",
    "l_answer.grid(row=2, column=0)\n",
    "\n",
    "Label(frame2, textvariable=v).grid()\n",
    "\n",
    "def get_product_category():      \n",
    "    url = e_mensagem.get()       \n",
    "    answer = pf.get_classification(url)\n",
    "    v.set(answer)\n",
    "        \n",
    "Button(frame, text=\"Run\", command=get_product_category).grid(row=0, column=2)\n",
    "\n",
    "\n",
    "main_window.mainloop()\n"
   ]
  }
 ],
 "metadata": {
  "kernelspec": {
   "display_name": "Python 3 (ipykernel)",
   "language": "python",
   "name": "python3"
  },
  "language_info": {
   "codemirror_mode": {
    "name": "ipython",
    "version": 3
   },
   "file_extension": ".py",
   "mimetype": "text/x-python",
   "name": "python",
   "nbconvert_exporter": "python",
   "pygments_lexer": "ipython3",
   "version": "3.10.5"
  }
 },
 "nbformat": 4,
 "nbformat_minor": 5
}
