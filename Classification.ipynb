{
 "cells": [
  {
   "cell_type": "markdown",
   "id": "605f16b6-d1f8-46aa-bb1c-225076d773e8",
   "metadata": {},
   "source": [
    "# Imports"
   ]
  },
  {
   "cell_type": "code",
   "execution_count": 1,
   "id": "c2e6f775-7be1-4a98-aee9-9b3d9a7e8f24",
   "metadata": {},
   "outputs": [],
   "source": [
    "import pandas as pd\n",
    "import pickle\n",
    "from collections import Counter\n",
    "from sklearn.model_selection import train_test_split\n",
    "from sklearn.metrics import classification_report, accuracy_score\n",
    "from sklearn.feature_extraction.text import TfidfVectorizer\n",
    "from sklearn.ensemble import RandomForestClassifier\n",
    "import bz2"
   ]
  },
  {
   "cell_type": "markdown",
   "id": "2832f080-ae55-4725-87d9-c0a22cea610b",
   "metadata": {},
   "source": [
    "# Inputs"
   ]
  },
  {
   "cell_type": "code",
   "execution_count": 42,
   "id": "438fb0f2-01d4-496c-a7a9-db3e1fccb834",
   "metadata": {},
   "outputs": [],
   "source": [
    "df_products = pd.read_csv(\"all_products.csv\")"
   ]
  },
  {
   "cell_type": "code",
   "execution_count": 43,
   "id": "8babf416-0693-4c39-baa8-b329eeb16983",
   "metadata": {},
   "outputs": [
    {
     "data": {
      "text/plain": [
       "(1729, 4)"
      ]
     },
     "execution_count": 43,
     "metadata": {},
     "output_type": "execute_result"
    }
   ],
   "source": [
    "df_products.shape"
   ]
  },
  {
   "cell_type": "code",
   "execution_count": 44,
   "id": "12174cd5-2d2f-47d6-bde4-d47abd1b3f6c",
   "metadata": {},
   "outputs": [
    {
     "data": {
      "text/html": [
       "<div>\n",
       "<style scoped>\n",
       "    .dataframe tbody tr th:only-of-type {\n",
       "        vertical-align: middle;\n",
       "    }\n",
       "\n",
       "    .dataframe tbody tr th {\n",
       "        vertical-align: top;\n",
       "    }\n",
       "\n",
       "    .dataframe thead th {\n",
       "        text-align: right;\n",
       "    }\n",
       "</style>\n",
       "<table border=\"1\" class=\"dataframe\">\n",
       "  <thead>\n",
       "    <tr style=\"text-align: right;\">\n",
       "      <th></th>\n",
       "      <th>title</th>\n",
       "      <th>url</th>\n",
       "      <th>text</th>\n",
       "      <th>categories</th>\n",
       "    </tr>\n",
       "  </thead>\n",
       "  <tbody>\n",
       "    <tr>\n",
       "      <th>0</th>\n",
       "      <td>Dessert  bébé dès 6 Mois brassés nature sans...</td>\n",
       "      <td>https://www.carrefour.fr/p/dessert-bebe-des-6-...</td>\n",
       "      <td>dessert bébé dès mois brassés nature sans sucr...</td>\n",
       "      <td>bebe-bio</td>\n",
       "    </tr>\n",
       "    <tr>\n",
       "      <th>1</th>\n",
       "      <td>Compote bébé Bio dès 6 mois Gourdes Multipac...</td>\n",
       "      <td>https://www.carrefour.fr/p/compotes-bebe-des-6...</td>\n",
       "      <td>compote bébé bio dès mois gourde multipack var...</td>\n",
       "      <td>bebe-bio</td>\n",
       "    </tr>\n",
       "    <tr>\n",
       "      <th>2</th>\n",
       "      <td>Desserts bébé bio dès 6 mois pomme coing CAR...</td>\n",
       "      <td>https://www.carrefour.fr/p/desserts-bebe-bio-d...</td>\n",
       "      <td>dessert bébé bio dès mois pomme coing  baby bi...</td>\n",
       "      <td>bebe-bio</td>\n",
       "    </tr>\n",
       "    <tr>\n",
       "      <th>3</th>\n",
       "      <td>Plat bébé bio hachis parmentier dès 12 mois ...</td>\n",
       "      <td>https://www.carrefour.fr/p/plat-bebe-bio-hachi...</td>\n",
       "      <td>plat bébé bio hachis parmentier dès mois  baby...</td>\n",
       "      <td>bebe-bio</td>\n",
       "    </tr>\n",
       "    <tr>\n",
       "      <th>4</th>\n",
       "      <td>Plat bébé bio polenta saumon dès 15 mois CAR...</td>\n",
       "      <td>https://www.carrefour.fr/p/plat-bebe-bio-polen...</td>\n",
       "      <td>plat bébé bio polenta saumon dès mois  baby as...</td>\n",
       "      <td>bebe-bio</td>\n",
       "    </tr>\n",
       "  </tbody>\n",
       "</table>\n",
       "</div>"
      ],
      "text/plain": [
       "                                               title  \\\n",
       "0    Dessert  bébé dès 6 Mois brassés nature sans...   \n",
       "1    Compote bébé Bio dès 6 mois Gourdes Multipac...   \n",
       "2    Desserts bébé bio dès 6 mois pomme coing CAR...   \n",
       "3    Plat bébé bio hachis parmentier dès 12 mois ...   \n",
       "4    Plat bébé bio polenta saumon dès 15 mois CAR...   \n",
       "\n",
       "                                                 url  \\\n",
       "0  https://www.carrefour.fr/p/dessert-bebe-des-6-...   \n",
       "1  https://www.carrefour.fr/p/compotes-bebe-des-6...   \n",
       "2  https://www.carrefour.fr/p/desserts-bebe-bio-d...   \n",
       "3  https://www.carrefour.fr/p/plat-bebe-bio-hachi...   \n",
       "4  https://www.carrefour.fr/p/plat-bebe-bio-polen...   \n",
       "\n",
       "                                                text categories  \n",
       "0  dessert bébé dès mois brassés nature sans sucr...   bebe-bio  \n",
       "1  compote bébé bio dès mois gourde multipack var...   bebe-bio  \n",
       "2  dessert bébé bio dès mois pomme coing  baby bi...   bebe-bio  \n",
       "3  plat bébé bio hachis parmentier dès mois  baby...   bebe-bio  \n",
       "4  plat bébé bio polenta saumon dès mois  baby as...   bebe-bio  "
      ]
     },
     "execution_count": 44,
     "metadata": {},
     "output_type": "execute_result"
    }
   ],
   "source": [
    "df_products.head()"
   ]
  },
  {
   "cell_type": "markdown",
   "id": "4fcb2e8c-4274-4f47-b9a8-ed4eace50749",
   "metadata": {},
   "source": [
    "# TFIDF"
   ]
  },
  {
   "cell_type": "code",
   "execution_count": 21,
   "id": "e83d1e97-1817-4db3-957b-f34cd676678b",
   "metadata": {},
   "outputs": [],
   "source": [
    "from sklearn.feature_extraction.text import TfidfVectorizer\n",
    "from nltk.corpus import stopwords\n",
    "\n",
    "tfidfconverter = TfidfVectorizer(max_features=200, min_df=0, max_df=0.7, stop_words=stopwords.words('french'))\n",
    "X = tfidfconverter.fit_transform(df_products.text.to_list()).toarray()"
   ]
  },
  {
   "cell_type": "markdown",
   "id": "9319b7e8-a81b-4309-a442-ae4035920f8a",
   "metadata": {},
   "source": [
    "# Training and Testing Sets"
   ]
  },
  {
   "cell_type": "code",
   "execution_count": 33,
   "id": "d4d8f392-0ad7-4288-a613-165bfd023e60",
   "metadata": {},
   "outputs": [],
   "source": [
    "from sklearn.model_selection import train_test_split\n",
    "X_train, X_test, y_train, y_test = train_test_split(X, df_products.categories.to_list(), test_size=0.3, random_state=0)"
   ]
  },
  {
   "cell_type": "markdown",
   "id": "d73fbbe3-d437-46d6-a8b7-44fa7dd5e9c5",
   "metadata": {},
   "source": [
    "# Training Text Classification Model"
   ]
  },
  {
   "cell_type": "code",
   "execution_count": 34,
   "id": "4155796a-d3e1-42af-a5be-4028fa512a1d",
   "metadata": {},
   "outputs": [
    {
     "data": {
      "text/html": [
       "<style>#sk-container-id-3 {color: black;background-color: white;}#sk-container-id-3 pre{padding: 0;}#sk-container-id-3 div.sk-toggleable {background-color: white;}#sk-container-id-3 label.sk-toggleable__label {cursor: pointer;display: block;width: 100%;margin-bottom: 0;padding: 0.3em;box-sizing: border-box;text-align: center;}#sk-container-id-3 label.sk-toggleable__label-arrow:before {content: \"▸\";float: left;margin-right: 0.25em;color: #696969;}#sk-container-id-3 label.sk-toggleable__label-arrow:hover:before {color: black;}#sk-container-id-3 div.sk-estimator:hover label.sk-toggleable__label-arrow:before {color: black;}#sk-container-id-3 div.sk-toggleable__content {max-height: 0;max-width: 0;overflow: hidden;text-align: left;background-color: #f0f8ff;}#sk-container-id-3 div.sk-toggleable__content pre {margin: 0.2em;color: black;border-radius: 0.25em;background-color: #f0f8ff;}#sk-container-id-3 input.sk-toggleable__control:checked~div.sk-toggleable__content {max-height: 200px;max-width: 100%;overflow: auto;}#sk-container-id-3 input.sk-toggleable__control:checked~label.sk-toggleable__label-arrow:before {content: \"▾\";}#sk-container-id-3 div.sk-estimator input.sk-toggleable__control:checked~label.sk-toggleable__label {background-color: #d4ebff;}#sk-container-id-3 div.sk-label input.sk-toggleable__control:checked~label.sk-toggleable__label {background-color: #d4ebff;}#sk-container-id-3 input.sk-hidden--visually {border: 0;clip: rect(1px 1px 1px 1px);clip: rect(1px, 1px, 1px, 1px);height: 1px;margin: -1px;overflow: hidden;padding: 0;position: absolute;width: 1px;}#sk-container-id-3 div.sk-estimator {font-family: monospace;background-color: #f0f8ff;border: 1px dotted black;border-radius: 0.25em;box-sizing: border-box;margin-bottom: 0.5em;}#sk-container-id-3 div.sk-estimator:hover {background-color: #d4ebff;}#sk-container-id-3 div.sk-parallel-item::after {content: \"\";width: 100%;border-bottom: 1px solid gray;flex-grow: 1;}#sk-container-id-3 div.sk-label:hover label.sk-toggleable__label {background-color: #d4ebff;}#sk-container-id-3 div.sk-serial::before {content: \"\";position: absolute;border-left: 1px solid gray;box-sizing: border-box;top: 0;bottom: 0;left: 50%;z-index: 0;}#sk-container-id-3 div.sk-serial {display: flex;flex-direction: column;align-items: center;background-color: white;padding-right: 0.2em;padding-left: 0.2em;position: relative;}#sk-container-id-3 div.sk-item {position: relative;z-index: 1;}#sk-container-id-3 div.sk-parallel {display: flex;align-items: stretch;justify-content: center;background-color: white;position: relative;}#sk-container-id-3 div.sk-item::before, #sk-container-id-3 div.sk-parallel-item::before {content: \"\";position: absolute;border-left: 1px solid gray;box-sizing: border-box;top: 0;bottom: 0;left: 50%;z-index: -1;}#sk-container-id-3 div.sk-parallel-item {display: flex;flex-direction: column;z-index: 1;position: relative;background-color: white;}#sk-container-id-3 div.sk-parallel-item:first-child::after {align-self: flex-end;width: 50%;}#sk-container-id-3 div.sk-parallel-item:last-child::after {align-self: flex-start;width: 50%;}#sk-container-id-3 div.sk-parallel-item:only-child::after {width: 0;}#sk-container-id-3 div.sk-dashed-wrapped {border: 1px dashed gray;margin: 0 0.4em 0.5em 0.4em;box-sizing: border-box;padding-bottom: 0.4em;background-color: white;}#sk-container-id-3 div.sk-label label {font-family: monospace;font-weight: bold;display: inline-block;line-height: 1.2em;}#sk-container-id-3 div.sk-label-container {text-align: center;}#sk-container-id-3 div.sk-container {/* jupyter's `normalize.less` sets `[hidden] { display: none; }` but bootstrap.min.css set `[hidden] { display: none !important; }` so we also need the `!important` here to be able to override the default hidden behavior on the sphinx rendered scikit-learn.org. See: https://github.com/scikit-learn/scikit-learn/issues/21755 */display: inline-block !important;position: relative;}#sk-container-id-3 div.sk-text-repr-fallback {display: none;}</style><div id=\"sk-container-id-3\" class=\"sk-top-container\"><div class=\"sk-text-repr-fallback\"><pre>RandomForestClassifier(n_estimators=1000, random_state=0)</pre><b>In a Jupyter environment, please rerun this cell to show the HTML representation or trust the notebook. <br />On GitHub, the HTML representation is unable to render, please try loading this page with nbviewer.org.</b></div><div class=\"sk-container\" hidden><div class=\"sk-item\"><div class=\"sk-estimator sk-toggleable\"><input class=\"sk-toggleable__control sk-hidden--visually\" id=\"sk-estimator-id-3\" type=\"checkbox\" checked><label for=\"sk-estimator-id-3\" class=\"sk-toggleable__label sk-toggleable__label-arrow\">RandomForestClassifier</label><div class=\"sk-toggleable__content\"><pre>RandomForestClassifier(n_estimators=1000, random_state=0)</pre></div></div></div></div></div>"
      ],
      "text/plain": [
       "RandomForestClassifier(n_estimators=1000, random_state=0)"
      ]
     },
     "execution_count": 34,
     "metadata": {},
     "output_type": "execute_result"
    }
   ],
   "source": [
    "classifier = RandomForestClassifier(n_estimators=1000, random_state=0)\n",
    "classifier.fit(X_train, y_train) "
   ]
  },
  {
   "cell_type": "code",
   "execution_count": 36,
   "id": "41d63821-f2fc-426a-9fdf-ad8b01a9eb0c",
   "metadata": {},
   "outputs": [],
   "source": [
    "y_pred = classifier.predict(X_test)"
   ]
  },
  {
   "cell_type": "code",
   "execution_count": 47,
   "id": "ae4e885b-b124-4856-9dc3-f0340fcca8fd",
   "metadata": {},
   "outputs": [
    {
     "name": "stdout",
     "output_type": "stream",
     "text": [
      "                                      precision    recall  f1-score   support\n",
      "\n",
      "                            bebe-bio       0.31      0.17      0.22        24\n",
      "                             boisson       1.00      0.85      0.92        13\n",
      "                            cereales       1.00      1.00      1.00         8\n",
      "             chauffage-climatisation       0.58      0.78      0.67        18\n",
      "                    couches-culottes       1.00      1.00      1.00        22\n",
      "                       cuisson-robot       0.77      1.00      0.87        17\n",
      "                       entretien-sol       0.83      1.00      0.91        15\n",
      "                              fruits       0.86      0.73      0.79        26\n",
      "               fruits-et-legumes-bio       0.54      0.81      0.65        16\n",
      "              fruits-et-legumes-secs       0.91      0.95      0.93        22\n",
      "                    gouters-desserts       0.58      0.73      0.65        15\n",
      "                 gros-electromenager       1.00      0.89      0.94        18\n",
      "                      hygiene-beaute       0.83      0.77      0.80        13\n",
      "            imprimantes-consommables       1.00      1.00      1.00        16\n",
      "      jus-de-fruits-et-legumes-frais       1.00      1.00      1.00        12\n",
      "                      laits-cereales       1.00      0.94      0.97        18\n",
      "                             legumes       0.73      0.58      0.65        19\n",
      "               maternite-allaitement       1.00      0.94      0.97        18\n",
      "               ordinateurs-tablettes       0.92      1.00      0.96        12\n",
      "peripheriques-accessoires-ordinateur       1.00      0.76      0.87        17\n",
      "                      petit-dejeuner       1.00      1.00      1.00        17\n",
      "                    pret-a-consommer       0.94      0.83      0.88        18\n",
      "                        puericulture       0.94      1.00      0.97        29\n",
      "                               repas       0.48      0.69      0.56        16\n",
      "                          soin-linge       1.00      0.92      0.96        12\n",
      "                      souris-clavier       1.00      1.00      1.00        15\n",
      "                            stockage       0.95      1.00      0.97        19\n",
      "                      tablettes-ipad       0.94      0.88      0.91        17\n",
      "                      toilette-soins       0.94      0.79      0.86        19\n",
      "                           vetements       1.00      0.94      0.97        18\n",
      "\n",
      "                            accuracy                           0.85       519\n",
      "                           macro avg       0.87      0.87      0.86       519\n",
      "                        weighted avg       0.86      0.85      0.85       519\n",
      "\n",
      "0.8535645472061657\n"
     ]
    }
   ],
   "source": [
    "print(classification_report(y_test,y_pred))\n",
    "print(accuracy_score(y_test, y_pred))"
   ]
  },
  {
   "cell_type": "markdown",
   "id": "9b5e179e-91a4-4b94-a7d9-c976faa64426",
   "metadata": {},
   "source": [
    "# Saving the Model and TFIDF converter"
   ]
  },
  {
   "cell_type": "code",
   "execution_count": 54,
   "id": "8ccf8d2d-27b1-4bfe-8f54-03e068532794",
   "metadata": {},
   "outputs": [],
   "source": [
    "# Compressing Data\n",
    " \n",
    "ofile = bz2.BZ2File('text_classifier', 'wb')\n",
    "pickle.dump(classifier,ofile)\n",
    "ofile.close()\n",
    "\n",
    "ofile = bz2.BZ2File('tfidfconverter', 'wb')\n",
    "pickle.dump(tfidfconverter,ofile)\n",
    "ofile.close()"
   ]
  }
 ],
 "metadata": {
  "kernelspec": {
   "display_name": "Python 3 (ipykernel)",
   "language": "python",
   "name": "python3"
  },
  "language_info": {
   "codemirror_mode": {
    "name": "ipython",
    "version": 3
   },
   "file_extension": ".py",
   "mimetype": "text/x-python",
   "name": "python",
   "nbconvert_exporter": "python",
   "pygments_lexer": "ipython3",
   "version": "3.10.5"
  }
 },
 "nbformat": 4,
 "nbformat_minor": 5
}
