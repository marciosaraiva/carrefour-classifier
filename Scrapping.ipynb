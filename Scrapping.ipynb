{
 "cells": [
  {
   "cell_type": "markdown",
   "id": "e5c38061-4a2f-48d6-9198-ef7a3ea60ff3",
   "metadata": {},
   "source": [
    "# Imports"
   ]
  },
  {
   "cell_type": "code",
   "execution_count": null,
   "id": "74f05145-19d0-4b79-8741-0b77871bc365",
   "metadata": {},
   "outputs": [],
   "source": [
    "from os import listdir\n",
    "from os.path import isfile, join\n",
    "import undetected_chromedriver as uc\n",
    "from selenium import webdriver\n",
    "import pandas as pd"
   ]
  },
  {
   "cell_type": "markdown",
   "id": "a3ec1cfe-0155-43d1-94b5-871adae68836",
   "metadata": {
    "tags": []
   },
   "source": [
    "# Download products'links in a list of category webpage of Carrefour"
   ]
  },
  {
   "cell_type": "code",
   "execution_count": null,
   "id": "023cec22-721f-4c52-9fd5-b0c496539be3",
   "metadata": {
    "tags": []
   },
   "outputs": [],
   "source": [
    "%%time\n",
    "\n",
    "with open(\"pages_category.txt\") as file:\n",
    "    for url in file:\n",
    "        options = webdriver.ChromeOptions()\n",
    "        options.add_argument('headless');\n",
    "        driver = uc.Chrome(chrome_options=options)\n",
    "        driver.get(url.replace(\"\\n\",\"\"))\n",
    "        html = driver.page_source\n",
    "        if not \"Cloudflare\" in html:\n",
    "            soup = BeautifulSoup(html, \"html.parser\")\n",
    "            links = set()\n",
    "            for link in soup.findAll('a'):\n",
    "                if \"p/\" in link.get('href'):\n",
    "                    links.add('https://www.carrefour.fr'+link.get('href'))\n",
    "\n",
    "            for l in links:\n",
    "                with open(\"output_scrapping/\"+url.split(\"/\")[-1].replace(\"\\n\",\"\")+\".txt\", \"a+\") as file_son:\n",
    "                    file_son.write(l+\"\\n\")\n",
    "                    \n",
    "        else:\n",
    "            print(url, \"Cloudflare\")\n",
    "            \n",
    "        driver.close()"
   ]
  },
  {
   "cell_type": "markdown",
   "id": "7f831403-efa0-422a-81a2-1d1592581254",
   "metadata": {},
   "source": [
    "# Download content of this products"
   ]
  },
  {
   "cell_type": "code",
   "execution_count": null,
   "id": "2097dbe0-7c02-4b86-b7ab-72ef277cb57c",
   "metadata": {
    "tags": []
   },
   "outputs": [],
   "source": [
    "%%time\n",
    "\n",
    "onlyfiles = [f for f in listdir(\"output_scrapping/\") if isfile(join(\"output_scrapping/\", f))]\n",
    "titles = []\n",
    "urls = []\n",
    "texts = []\n",
    "categories = []\n",
    "options = webdriver.ChromeOptions()\n",
    "options.add_argument('headless');\n",
    "        \n",
    "for name_file in onlyfiles:\n",
    "    cat = name_file.replace(\".txt\", \"\")\n",
    "    with open(\"output_scrapping/\"+name_file) as file:\n",
    "        for url in file:\n",
    "            url = url.replace(\"\\n\",\"\")\n",
    "            driver = uc.Chrome(chrome_options=options)\n",
    "            driver.get(url)\n",
    "            html = driver.page_source\n",
    "            soup = BeautifulSoup(html, \"html.parser\")\n",
    "            if not(\"Cloudflare\" in soup.title.text):\n",
    "                text = finalpreprocess(soup.title.text).replace(\"carrefour\", \"\").replace(\"prix\",\"\")\n",
    "                titles.append(soup.title.text)\n",
    "                urls.append(url)\n",
    "                texts.append(text)\n",
    "                categories.append(cat)            \n",
    "            driver.close()"
   ]
  },
  {
   "cell_type": "code",
   "execution_count": null,
   "id": "0c3711a4-9458-4e81-80cc-771dc00f1afc",
   "metadata": {},
   "outputs": [],
   "source": [
    "df_products = pd.DataFrame()\n",
    "df_products[\"title\"] = titles\n",
    "df_products[\"url\"] = urls\n",
    "df_products[\"text\"] = texts\n",
    "df_products[\"categories\"] = categories"
   ]
  },
  {
   "cell_type": "code",
   "execution_count": null,
   "id": "e87c7905-fe36-4ff0-ba12-343bbe5616a8",
   "metadata": {},
   "outputs": [],
   "source": [
    "df_products.head()"
   ]
  },
  {
   "cell_type": "code",
   "execution_count": null,
   "id": "ad767a50-18a3-4cb6-a92e-f7b508bb8c05",
   "metadata": {},
   "outputs": [],
   "source": [
    "df_products.shape"
   ]
  },
  {
   "cell_type": "code",
   "execution_count": null,
   "id": "5507cf17-693d-4ed7-b3bb-b498c0ffebc8",
   "metadata": {},
   "outputs": [],
   "source": [
    "df_products.to_csv(\"all_products.csv\", index=False)"
   ]
  }
 ],
 "metadata": {
  "kernelspec": {
   "display_name": "Python 3 (ipykernel)",
   "language": "python",
   "name": "python3"
  },
  "language_info": {
   "codemirror_mode": {
    "name": "ipython",
    "version": 3
   },
   "file_extension": ".py",
   "mimetype": "text/x-python",
   "name": "python",
   "nbconvert_exporter": "python",
   "pygments_lexer": "ipython3",
   "version": "3.10.5"
  }
 },
 "nbformat": 4,
 "nbformat_minor": 5
}
